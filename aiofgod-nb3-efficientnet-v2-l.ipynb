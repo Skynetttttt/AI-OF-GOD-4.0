{
 "cells": [
  {
   "cell_type": "code",
   "execution_count": null,
   "metadata": {
    "execution": {
     "iopub.execute_input": "2025-10-11T05:39:33.419751Z",
     "iopub.status.busy": "2025-10-11T05:39:33.419075Z"
    },
    "trusted": true
   },
   "outputs": [
    {
     "name": "stdout",
     "output_type": "stream",
     "text": [
      "\n",
      "========== Fold 1/3 ==========\n"
     ]
    },
    {
     "name": "stderr",
     "output_type": "stream",
     "text": [
      "/tmp/ipykernel_96/4051801807.py:152: FutureWarning: `torch.cuda.amp.GradScaler(args...)` is deprecated. Please use `torch.amp.GradScaler('cuda', args...)` instead.\n",
      "  scaler = GradScaler()\n"
     ]
    },
    {
     "name": "stdout",
     "output_type": "stream",
     "text": [
      "\n",
      "Epoch [1/10] — Fold 1\n"
     ]
    },
    {
     "name": "stderr",
     "output_type": "stream",
     "text": [
      "  0%|          | 0/1022 [00:00<?, ?it/s]/tmp/ipykernel_96/4051801807.py:86: FutureWarning: `torch.cuda.amp.autocast(args...)` is deprecated. Please use `torch.amp.autocast('cuda', args...)` instead.\n",
      "  with autocast():\n",
      "                                                   \r"
     ]
    },
    {
     "name": "stdout",
     "output_type": "stream",
     "text": [
      "Train Loss: 0.6148 | Train Acc: 0.8023\n",
      "Val Loss:   0.2356 | Val Acc:   0.9305\n",
      "Per-class accuracies:\n",
      "  0                         : 89.73%\n",
      "  1                         : 94.05%\n",
      "  2                         : 92.00%\n",
      "  3                         : 98.32%\n",
      "  4                         : 97.79%\n",
      "  5                         : 88.45%\n",
      "  6                         : 96.97%\n",
      "  7                         : 94.19%\n",
      "  8                         : 95.04%\n",
      "✅ Model improved & saved: efficientnetv2l_best_fold1.pth\n",
      "\n",
      "Epoch [2/10] — Fold 1\n"
     ]
    },
    {
     "name": "stderr",
     "output_type": "stream",
     "text": [
      "  0%|          | 0/1022 [00:00<?, ?it/s]/tmp/ipykernel_96/4051801807.py:86: FutureWarning: `torch.cuda.amp.autocast(args...)` is deprecated. Please use `torch.amp.autocast('cuda', args...)` instead.\n",
      "  with autocast():\n",
      "                                                   \r"
     ]
    },
    {
     "name": "stdout",
     "output_type": "stream",
     "text": [
      "Train Loss: 0.2314 | Train Acc: 0.9251\n",
      "Val Loss:   0.1835 | Val Acc:   0.9403\n",
      "Per-class accuracies:\n",
      "  0                         : 93.92%\n",
      "  1                         : 85.71%\n",
      "  2                         : 93.13%\n",
      "  3                         : 99.16%\n",
      "  4                         : 98.23%\n",
      "  5                         : 90.84%\n",
      "  6                         : 99.57%\n",
      "  7                         : 99.61%\n",
      "  8                         : 93.80%\n",
      "✅ Model improved & saved: efficientnetv2l_best_fold1.pth\n",
      "\n",
      "Epoch [3/10] — Fold 1\n"
     ]
    },
    {
     "name": "stderr",
     "output_type": "stream",
     "text": [
      "  0%|          | 0/1022 [00:00<?, ?it/s]/tmp/ipykernel_96/4051801807.py:86: FutureWarning: `torch.cuda.amp.autocast(args...)` is deprecated. Please use `torch.amp.autocast('cuda', args...)` instead.\n",
      "  with autocast():\n",
      " 24%|██▍       | 122/511 [00:31<01:38,  3.93it/s]  "
     ]
    }
   ],
   "source": [
    "import os\n",
    "import copy\n",
    "import random\n",
    "import numpy as np\n",
    "from tqdm import tqdm\n",
    "from sklearn.model_selection import StratifiedKFold\n",
    "from sklearn.metrics import confusion_matrix\n",
    "\n",
    "import torch\n",
    "import torch.nn as nn\n",
    "import torch.optim as optim\n",
    "from torch.utils.data import DataLoader, Subset\n",
    "from torchvision import datasets, transforms, models\n",
    "from torch.cuda.amp import GradScaler, autocast\n",
    "\n",
    "data_dir = \"/kaggle/input/AI-OF-GOD-4/aog_data/train\"\n",
    "num_classes = 9\n",
    "num_epochs = 10\n",
    "batch_size = 8\n",
    "accum_steps = 2\n",
    "learning_rate = 1e-4\n",
    "num_folds = 3\n",
    "device = torch.device(\"cuda\" if torch.cuda.is_available() else \"cpu\")\n",
    "seed = 42\n",
    "\n",
    "torch.manual_seed(seed)\n",
    "torch.cuda.manual_seed_all(seed)\n",
    "np.random.seed(seed)\n",
    "random.seed(seed)\n",
    "\n",
    "train_transform = transforms.Compose([\n",
    "    transforms.Resize((384, 384)),\n",
    "    transforms.RandomResizedCrop(384, scale=(0.8, 1.0)),\n",
    "    transforms.RandomHorizontalFlip(),\n",
    "    transforms.ColorJitter(brightness=0.3, contrast=0.3, saturation=0.3, hue=0.05),\n",
    "    transforms.RandomRotation(15),\n",
    "    transforms.ToTensor(),\n",
    "    transforms.Normalize(mean=[0.485, 0.456, 0.406],\n",
    "                         std=[0.229, 0.224, 0.225])\n",
    "])\n",
    "\n",
    "val_transform = transforms.Compose([\n",
    "    transforms.Resize((384, 384)),\n",
    "    transforms.CenterCrop(384),\n",
    "    transforms.ToTensor(),\n",
    "    transforms.Normalize(mean=[0.485, 0.456, 0.406],\n",
    "                         std=[0.229, 0.224, 0.225])\n",
    "])\n",
    "\n",
    "full_dataset = datasets.ImageFolder(root=data_dir)\n",
    "class_names = full_dataset.classes\n",
    "labels = [label for _, label in full_dataset.samples]\n",
    "skf = StratifiedKFold(n_splits=num_folds, shuffle=True, random_state=seed)\n",
    "\n",
    "def create_model(num_classes=num_classes):\n",
    "    model = models.efficientnet_v2_l(weights=models.EfficientNet_V2_L_Weights.IMAGENET1K_V1)\n",
    "    in_features = model.classifier[1].in_features\n",
    "    model.classifier[1] = nn.Linear(in_features, num_classes)\n",
    "    return model.to(device)\n",
    "\n",
    "def train_one_epoch(model, loader, criterion, optimizer, scaler):\n",
    "    model.train()\n",
    "    running_loss, correct, total = 0.0, 0, 0\n",
    "    optimizer.zero_grad()\n",
    "    for step, (inputs, labels) in enumerate(tqdm(loader, leave=False)):\n",
    "        inputs, labels = inputs.to(device), labels.to(device)\n",
    "        with autocast():\n",
    "            outputs = model(inputs)\n",
    "            loss = criterion(outputs, labels) / accum_steps\n",
    "        scaler.scale(loss).backward()\n",
    "        if (step + 1) % accum_steps == 0:\n",
    "            scaler.step(optimizer)\n",
    "            scaler.update()\n",
    "            optimizer.zero_grad()\n",
    "        running_loss += loss.item() * inputs.size(0) * accum_steps\n",
    "        preds = outputs.argmax(1)\n",
    "        correct += (preds == labels).sum().item()\n",
    "        total += labels.size(0)\n",
    "    epoch_loss = running_loss / total\n",
    "    epoch_acc = correct / total\n",
    "    return epoch_loss, epoch_acc\n",
    "\n",
    "def validate(model, loader, criterion):\n",
    "    model.eval()\n",
    "    running_loss, correct, total = 0.0, 0, 0\n",
    "    all_preds, all_labels = [], []\n",
    "    with torch.no_grad():\n",
    "        for inputs, labels in tqdm(loader, leave=False):\n",
    "            inputs, labels = inputs.to(device), labels.to(device)\n",
    "            outputs = model(inputs)\n",
    "            loss = criterion(outputs, labels)\n",
    "            running_loss += loss.item() * inputs.size(0)\n",
    "            preds = outputs.argmax(1)\n",
    "            correct += (preds == labels).sum().item()\n",
    "            total += labels.size(0)\n",
    "            all_preds.extend(preds.cpu().numpy())\n",
    "            all_labels.extend(labels.cpu().numpy())\n",
    "    val_loss = running_loss / total\n",
    "    val_acc = correct / total\n",
    "    cm = confusion_matrix(all_labels, all_preds, labels=list(range(len(class_names))))\n",
    "    per_class_acc = cm.diagonal() / cm.sum(axis=1)\n",
    "    per_class_acc_dict = {cls: acc for cls, acc in zip(class_names, per_class_acc)}\n",
    "    return val_loss, val_acc, per_class_acc_dict\n",
    "\n",
    "for fold, (train_idx, val_idx) in enumerate(skf.split(np.zeros(len(labels)), labels)):\n",
    "    print(f\"\\n========== Fold {fold + 1}/{num_folds} ==========\")\n",
    "    train_subset = Subset(full_dataset, train_idx)\n",
    "    val_subset = Subset(full_dataset, val_idx)\n",
    "    train_subset.dataset.transform = train_transform\n",
    "    val_subset.dataset.transform = val_transform\n",
    "    train_loader = DataLoader(train_subset, batch_size=batch_size, shuffle=True, num_workers=2)\n",
    "    val_loader = DataLoader(val_subset, batch_size=batch_size, shuffle=False, num_workers=2)\n",
    "    model = create_model()\n",
    "    criterion = nn.CrossEntropyLoss()\n",
    "    optimizer = optim.AdamW(model.parameters(), lr=learning_rate, weight_decay=1e-4)\n",
    "    scheduler = optim.lr_scheduler.CosineAnnealingLR(optimizer, T_max=num_epochs)\n",
    "    scaler = GradScaler()\n",
    "    best_val_acc = 0.0\n",
    "    best_model_wts = copy.deepcopy(model.state_dict())\n",
    "    for epoch in range(num_epochs):\n",
    "        print(f\"\\nEpoch [{epoch+1}/{num_epochs}] — Fold {fold+1}\")\n",
    "        train_loss, train_acc = train_one_epoch(model, train_loader, criterion, optimizer, scaler)\n",
    "        val_loss, val_acc, per_class_acc = validate(model, val_loader, criterion)\n",
    "        scheduler.step()\n",
    "        print(f\"Train Loss: {train_loss:.4f} | Train Acc: {train_acc:.4f}\")\n",
    "        print(f\"Val Loss:   {val_loss:.4f} | Val Acc:   {val_acc:.4f}\")\n",
    "        print(\"Per-class accuracies:\")\n",
    "        for cls, acc in per_class_acc.items():\n",
    "            print(f\"  {cls:25s} : {acc*100:.2f}%\")\n",
    "        if val_acc > best_val_acc:\n",
    "            best_val_acc = val_acc\n",
    "            best_model_wts = copy.deepcopy(model.state_dict())\n",
    "            model_path = f\"efficientnetv2l_best_fold{fold+1}.pth\"\n",
    "            torch.save(best_model_wts, model_path)\n",
    "            print(f\"✅ Model improved & saved: {model_path}\")\n",
    "    print(f\"Best Val Accuracy for Fold {fold+1}: {best_val_acc:.4f}\")\n",
    "\n",
    "print(\"\\n🎉 Training Complete for All Folds!\")"
   ]
  },
  {
   "cell_type": "raw",
   "metadata": {},
   "source": []
  }
 ],
 "metadata": {
  "kaggle": {
   "accelerator": "nvidiaTeslaT4",
   "dataSources": [
    {
     "databundleVersionId": 14005367,
     "sourceId": 117194,
     "sourceType": "competition"
    }
   ],
   "dockerImageVersionId": 31154,
   "isGpuEnabled": true,
   "isInternetEnabled": true,
   "language": "python",
   "sourceType": "notebook"
  },
  "kernelspec": {
   "display_name": "Python 3",
   "language": "python",
   "name": "python3"
  },
  "language_info": {
   "codemirror_mode": {
    "name": "ipython",
    "version": 3
   },
   "file_extension": ".py",
   "mimetype": "text/x-python",
   "name": "python",
   "nbconvert_exporter": "python",
   "pygments_lexer": "ipython3",
   "version": "3.11.13"
  }
 },
 "nbformat": 4,
 "nbformat_minor": 4
}
